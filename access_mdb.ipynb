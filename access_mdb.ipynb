{
 "cells": [
  {
   "cell_type": "code",
   "execution_count": 7,
   "id": "c222902d",
   "metadata": {
    "scrolled": false
   },
   "outputs": [
    {
     "data": {
      "text/plain": [
       "440"
      ]
     },
     "execution_count": 7,
     "metadata": {},
     "output_type": "execute_result"
    }
   ],
   "source": [
    "import pyodbc\n",
    "import json\n",
    "from tkinter import *\n",
    "from tkinter import filedialog\n",
    "\n",
    "\n",
    "# GUI Interface \n",
    "win=Tk()\n",
    "\n",
    "\n",
    "win.geometry(\"700x300\")\n",
    "\n",
    "\n",
    "Label(win, text=\"Click the button to open a file\", font='Arial 16 bold').pack(pady=15)\n",
    "\n",
    "path = ''\n",
    "\n",
    "\n",
    "def open_file():\n",
    "    global path\n",
    "    filepath = filedialog.askopenfilename(title=\"Open a Text File\", filetypes=((\"*.mdb\", \"*.accdb\"), (\"all files\",\"*.*\",)))\n",
    "    path += str(filepath)\n",
    "    win.destroy()\n",
    "   \n",
    "\n",
    "\n",
    "\n",
    "button = Button(win, text=\"Open\", command=open_file)\n",
    "button.pack()\n",
    "\n",
    "\n",
    "win.mainloop()\n",
    "\n",
    "\n",
    "\n",
    "con = pyodbc.connect(\n",
    "    r'DRIVER={Microsoft Access Driver (*.mdb, *.accdb)};'\n",
    "    r'DBQ= '+ path + ';'\n",
    "    )\n",
    "\n",
    "cursor = con.cursor()\n",
    "\n",
    "table_name = 'fctnum'\n",
    "\n",
    "col_name1 = 'nam'\n",
    "col_name2= 'num'\n",
    "col_name3 = 'callon'\n",
    "\n",
    "SQL = f'Select {col_name1}, {col_name2}, {col_name3} from {table_name} where fedbck = \\'Answered\\';'\n",
    "cursor.execute(SQL)\n",
    "\n",
    "\n",
    "\n",
    "phone_num = []\n",
    "for r in cursor.fetchall():\n",
    "    s = str(r[2])\n",
    "    lst = s.split()\n",
    "    \n",
    "    for i in range(len(phone_num)):\n",
    "        if phone_num[i]['Phone Number'] == str(r[1]):\n",
    "            phone_num.pop(i)\n",
    "    phone_num.append({'Name' : r[0], 'Phone Number' : r[1], 'Date' : lst[0], 'Time': lst[1]})\n",
    "\n",
    "\n",
    "with open('responses.json', 'w') as file:\n",
    "    for i in range(len(phone_num)):\n",
    "        obj = json.dumps(phone_num[i], indent = 4)\n",
    "        file.write(obj)\n",
    "        file.write('\\n')\n",
    "\n",
    "        \n",
    "\n",
    "\n",
    "\n",
    "        \n",
    "        \n",
    "    \n",
    "\n"
   ]
  }
 ],
 "metadata": {
  "kernelspec": {
   "display_name": "Python 3 (ipykernel)",
   "language": "python",
   "name": "python3"
  },
  "language_info": {
   "codemirror_mode": {
    "name": "ipython",
    "version": 3
   },
   "file_extension": ".py",
   "mimetype": "text/x-python",
   "name": "python",
   "nbconvert_exporter": "python",
   "pygments_lexer": "ipython3",
   "version": "3.9.12"
  }
 },
 "nbformat": 4,
 "nbformat_minor": 5
}
